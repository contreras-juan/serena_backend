{
 "cells": [
  {
   "cell_type": "code",
   "execution_count": null,
   "metadata": {
    "vscode": {
     "languageId": "plaintext"
    }
   },
   "outputs": [],
   "source": [
    "from dotenv import load_dotenv\n",
    "import os"
   ]
  },
  {
   "cell_type": "code",
   "execution_count": null,
   "metadata": {
    "vscode": {
     "languageId": "plaintext"
    }
   },
   "outputs": [],
   "source": [
    "load_dotenv(\"../.env\")\n",
    "GOOGLE_API_KEY = os.getenv(\"GOOGLE_API_KEY\")"
   ]
  },
  {
   "cell_type": "code",
   "execution_count": null,
   "metadata": {
    "vscode": {
     "languageId": "plaintext"
    }
   },
   "outputs": [],
   "source": [
    "from langchain_google_genai import ChatGoogleGenerativeAI\n",
    "\n",
    "llm = ChatGoogleGenerativeAI(\n",
    "    model=\"gemini-2.0-flash\",\n",
    "    temperature=0,\n",
    "    max_tokens=None,\n",
    "    timeout=None,\n",
    "    max_retries=2,\n",
    "    # other params...\n",
    ")"
   ]
  },
  {
   "cell_type": "code",
   "execution_count": null,
   "metadata": {
    "vscode": {
     "languageId": "plaintext"
    }
   },
   "outputs": [],
   "source": [
    "from langgraph.prebuilt import create_react_agent "
   ]
  },
  {
   "cell_type": "code",
   "execution_count": null,
   "metadata": {
    "vscode": {
     "languageId": "plaintext"
    }
   },
   "outputs": [],
   "source": [
    "\n",
    "from langchain_core.tools import tool \n",
    "from pydantic import BaseModel, Field"
   ]
  },
  {
   "cell_type": "code",
   "execution_count": null,
   "metadata": {
    "vscode": {
     "languageId": "plaintext"
    }
   },
   "outputs": [],
   "source": [
    "agent = create_react_agent(\n",
    "    model,\n",
    "    tools=[make_a_question],\n",
    "    debug=True,\n",
    "    response_format=Tutela\n",
    ")"
   ]
  },
  {
   "cell_type": "code",
   "execution_count": null,
   "metadata": {
    "vscode": {
     "languageId": "plaintext"
    }
   },
   "outputs": [],
   "source": [
    "prompt = \"\"\"\n",
    "Tu nombre es Serena. Eres una acompañante emocional. Tu propósito es brindar apoyo emocional, contención, escucha empática y sugerencias prácticas para el bienestar mental, sin hacer diagnósticos clínicos ni emitir juicios.\n",
    "\n",
    "Usa un lenguaje amable, cálido y cercano. Ayuda a las personas a explorar lo que sienten, valida sus emociones y fomenta la autorreflexión. Puedes ofrecer ejercicios simples de respiración, mindfulness, escritura emocional o preguntas introspectivas suaves.\n",
    "\n",
    "Si el usuario menciona situaciones de crisis o autolesiones, anima a buscar apoyo profesional o llamar a líneas de ayuda. Nunca emitas diagnósticos ni afirmes que puedes reemplazar a un psicólogo.\n",
    "\n",
    "Responde siempre en un tono empático, tranquilo y respetuoso. Puedes usar frases como:\n",
    "- \"Estoy aquí para ti\"\n",
    "- \"Eso suena difícil, gracias por compartirlo conmigo\"\n",
    "- \"¿Quieres que hablemos un poco más de eso?\"\n",
    "\n",
    "Trata de indagar más a profundidad por lo que el usuario está pasando para poder dar apoyo y ayudar a explorar lo que siente.\n",
    "\"\"\""
   ]
  },
  {
   "cell_type": "code",
   "execution_count": null,
   "metadata": {
    "vscode": {
     "languageId": "plaintext"
    }
   },
   "outputs": [],
   "source": [
    "# Crear el agente con el prompt\n",
    "agent = create_react_agent(\n",
    "    model=model,\n",
    "    tools=[],\n",
    "    system_prompt=serena_prompt,\n",
    "    name=\"Serena\"\n",
    ")"
   ]
  },
  {
   "cell_type": "code",
   "execution_count": null,
   "metadata": {
    "vscode": {
     "languageId": "plaintext"
    }
   },
   "outputs": [],
   "source": [
    "# Ejemplo de uso\n",
    "response = agent.invoke({\"input\": \"Hoy me siento muy triste, como si no tuviera energía para nada.\"})\n",
    "print(response[\"output\"])"
   ]
  }
 ],
 "metadata": {
  "language_info": {
   "name": "python"
  }
 },
 "nbformat": 4,
 "nbformat_minor": 2
}
